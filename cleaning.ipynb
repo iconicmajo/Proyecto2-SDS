{
 "cells": [
  {
   "cell_type": "code",
   "execution_count": 26,
   "metadata": {
    "execution": {
     "iopub.execute_input": "2022-04-20T03:07:40.441349Z",
     "iopub.status.busy": "2022-04-20T03:07:40.440161Z",
     "iopub.status.idle": "2022-04-20T03:07:40.666022Z",
     "shell.execute_reply": "2022-04-20T03:07:40.665183Z",
     "shell.execute_reply.started": "2022-04-20T03:07:40.441286Z"
    }
   },
   "outputs": [],
   "source": [
    "# dataframe and math\n",
    "import pandas as pd\n",
    "import numpy as np\n",
    "\n",
    "# optimized dataframe loading\n",
    "import dask.dataframe as dd\n",
    "\n",
    "# random module\n",
    "import random"
   ]
  },
  {
   "cell_type": "code",
   "execution_count": 28,
   "metadata": {},
   "outputs": [],
   "source": [
    "PATHS = {\n",
    "    'train': 'train.csv',\n",
    "    'test': 'test.csv',\n",
    "    'clean_train': \"./initial_features.csv\"\n",
    "}"
   ]
  },
  {
   "cell_type": "code",
   "execution_count": 29,
   "metadata": {
    "execution": {
     "iopub.execute_input": "2022-04-20T02:26:00.893594Z",
     "iopub.status.busy": "2022-04-20T02:26:00.893021Z",
     "iopub.status.idle": "2022-04-20T02:26:00.925483Z",
     "shell.execute_reply": "2022-04-20T02:26:00.924608Z",
     "shell.execute_reply.started": "2022-04-20T02:26:00.893557Z"
    }
   },
   "outputs": [],
   "source": [
    "## si no hay RAM disponible suficiente (< 16 GB)\n",
    "df = dd.read_csv(\n",
    "    PATHS['train'], \n",
    "    dtype={\n",
    "        'Census_ProcessorClass': 'object',\n",
    "        'PuaMode': 'object'\n",
    "    }\n",
    ")"
   ]
  },
  {
   "cell_type": "code",
   "execution_count": null,
   "metadata": {},
   "outputs": [],
   "source": [
    "## saltar si se ejecutó la anterior\n",
    "df = pd.read_csv(\n",
    "    PATHS['train'],\n",
    "    dtype={\n",
    "        'Census_ProcessorClass': 'object',\n",
    "        'PuaMode': 'object'\n",
    "    }\n",
    ")"
   ]
  },
  {
   "cell_type": "code",
   "execution_count": null,
   "metadata": {
    "execution": {
     "iopub.execute_input": "2022-04-20T02:26:01.081481Z",
     "iopub.status.busy": "2022-04-20T02:26:01.081159Z",
     "iopub.status.idle": "2022-04-20T02:26:01.085449Z",
     "shell.execute_reply": "2022-04-20T02:26:01.084663Z",
     "shell.execute_reply.started": "2022-04-20T02:26:01.081432Z"
    }
   },
   "outputs": [],
   "source": [
    "ALL = df.columns"
   ]
  },
  {
   "cell_type": "code",
   "execution_count": null,
   "metadata": {},
   "outputs": [],
   "source": [
    "shape = df.shape\n",
    "shape[0].compute(), shape[1]"
   ]
  },
  {
   "cell_type": "code",
   "execution_count": null,
   "metadata": {},
   "outputs": [],
   "source": [
    "df.head()"
   ]
  },
  {
   "cell_type": "markdown",
   "metadata": {},
   "source": [
    "VALORES NULOS"
   ]
  },
  {
   "cell_type": "code",
   "execution_count": null,
   "metadata": {},
   "outputs": [],
   "source": [
    "## show de los valores nulos\n",
    "pd.set_option('display.max_rows', 100)\n",
    "\n",
    "df.isna().sum().compute()"
   ]
  },
  {
   "cell_type": "markdown",
   "metadata": {},
   "source": [
    "BALANCEO DE CLASE"
   ]
  },
  {
   "cell_type": "code",
   "execution_count": null,
   "metadata": {},
   "outputs": [],
   "source": [
    "## podemos ver que este dataset está balanceado\n",
    "df.HasDetections.value_counts().compute()"
   ]
  },
  {
   "cell_type": "markdown",
   "metadata": {},
   "source": [
    "VALORES ÚNICOS O REPETIDOS"
   ]
  },
  {
   "cell_type": "code",
   "execution_count": null,
   "metadata": {},
   "outputs": [],
   "source": [
    "## alto número de valores nulos\n",
    "df.DefaultBrowsersIdentifier.isnull().sum().compute()"
   ]
  },
  {
   "cell_type": "code",
   "execution_count": null,
   "metadata": {},
   "outputs": [],
   "source": [
    "## alto numero de win8defender\n",
    "df.ProductName.value_counts().compute()"
   ]
  },
  {
   "cell_type": "code",
   "execution_count": null,
   "metadata": {},
   "outputs": [],
   "source": [
    "## alto número de 0s\n",
    "df.IsBeta.value_counts().compute()"
   ]
  },
  {
   "cell_type": "code",
   "execution_count": null,
   "metadata": {},
   "outputs": [],
   "source": [
    "## alto número de 7.0\n",
    "df.RtpStateBitfield.value_counts().compute()"
   ]
  },
  {
   "cell_type": "code",
   "execution_count": null,
   "metadata": {},
   "outputs": [],
   "source": [
    "## alto número de 0s\n",
    "df.IsSxsPassiveMode.value_counts().compute()"
   ]
  },
  {
   "cell_type": "code",
   "execution_count": null,
   "metadata": {},
   "outputs": [],
   "source": [
    "## alto número de valores 1.0\n",
    "df.AVProductsEnabled.value_counts().compute()"
   ]
  },
  {
   "cell_type": "code",
   "execution_count": null,
   "metadata": {},
   "outputs": [],
   "source": [
    "## alto número de valores 1\n",
    "df.HasTpm.value_counts().compute()"
   ]
  },
  {
   "cell_type": "code",
   "execution_count": null,
   "metadata": {},
   "outputs": [],
   "source": [
    "## alto número del mismo valor\n",
    "df.Platform.value_counts().compute()"
   ]
  },
  {
   "cell_type": "code",
   "execution_count": null,
   "metadata": {},
   "outputs": [],
   "source": [
    "## alto número del mismo valor\n",
    "df.OsVer.value_counts().compute()"
   ]
  },
  {
   "cell_type": "code",
   "execution_count": null,
   "metadata": {},
   "outputs": [],
   "source": [
    "## alto número de 1.0\n",
    "df.IsProtected.value_counts().compute()"
   ]
  },
  {
   "cell_type": "code",
   "execution_count": null,
   "metadata": {},
   "outputs": [],
   "source": [
    "## alto número de\n",
    "df.AutoSampleOptIn.value_counts().compute()"
   ]
  },
  {
   "cell_type": "code",
   "execution_count": null,
   "metadata": {},
   "outputs": [],
   "source": [
    "## alto número de\n",
    "df.PuaMode.value_counts().compute()"
   ]
  },
  {
   "cell_type": "code",
   "execution_count": null,
   "metadata": {},
   "outputs": [],
   "source": [
    "df.PuaMode.isnull().sum().compute()"
   ]
  },
  {
   "cell_type": "code",
   "execution_count": null,
   "metadata": {},
   "outputs": [],
   "source": [
    "## alto número de 0s\n",
    "df.SMode.value_counts().compute()"
   ]
  },
  {
   "cell_type": "code",
   "execution_count": null,
   "metadata": {},
   "outputs": [],
   "source": [
    "## alto número de 1.0\n",
    "df.Firewall.value_counts().compute()"
   ]
  },
  {
   "cell_type": "code",
   "execution_count": null,
   "metadata": {},
   "outputs": [],
   "source": [
    "## alto número de 1.0\n",
    "df.UacLuaenable.value_counts().compute()"
   ]
  },
  {
   "cell_type": "code",
   "execution_count": null,
   "metadata": {},
   "outputs": [],
   "source": [
    "## alto número de Windows.Desktop\n",
    "df.Census_DeviceFamily.value_counts().compute()"
   ]
  },
  {
   "cell_type": "code",
   "execution_count": null,
   "metadata": {},
   "outputs": [],
   "source": [
    "## alta cantidad de 0s\n",
    "df.Census_HasOpticalDiskDrive.value_counts().compute()"
   ]
  },
  {
   "cell_type": "code",
   "execution_count": null,
   "metadata": {},
   "outputs": [],
   "source": [
    "## alta cantidad de amd64\n",
    "df.Census_OSArchitecture.value_counts().compute()"
   ]
  },
  {
   "cell_type": "code",
   "execution_count": null,
   "metadata": {},
   "outputs": [],
   "source": [
    "## alta cantidad de 0s\n",
    "df.Census_IsPortableOperatingSystem.value_counts().compute()"
   ]
  },
  {
   "cell_type": "code",
   "execution_count": null,
   "metadata": {},
   "outputs": [],
   "source": [
    "## alta cantidad de 0s\n",
    "df.Census_IsFlightsDisabled.value_counts().compute()"
   ]
  },
  {
   "cell_type": "code",
   "execution_count": null,
   "metadata": {},
   "outputs": [],
   "source": [
    "## alta cantidad de 'Retail'\n",
    "df.Census_FlightRing.value_counts().compute()"
   ]
  },
  {
   "cell_type": "code",
   "execution_count": null,
   "metadata": {},
   "outputs": [],
   "source": [
    "## alta cantidad de 0s\n",
    "df.Census_IsVirtualDevice.value_counts().compute()"
   ]
  },
  {
   "cell_type": "code",
   "execution_count": null,
   "metadata": {},
   "outputs": [],
   "source": [
    "## alta cantidad de 0s\n",
    "df.Census_IsPenCapable.value_counts().compute()"
   ]
  },
  {
   "cell_type": "code",
   "execution_count": null,
   "metadata": {},
   "outputs": [],
   "source": [
    "## alta cantidad de 0s\n",
    "df.Census_IsAlwaysOnAlwaysConnectedCapable.value_counts().compute()"
   ]
  },
  {
   "cell_type": "markdown",
   "metadata": {},
   "source": [
    "SELECCION DE COLUMNAS A ELIMINAR"
   ]
  },
  {
   "cell_type": "code",
   "execution_count": null,
   "metadata": {},
   "outputs": [],
   "source": [
    "## revisar correlacion\n",
    "'EngineVersion' --> 'HasDetections'\n",
    "'EngineVersion' --> 'AppVersion'"
   ]
  },
  {
   "cell_type": "code",
   "execution_count": null,
   "metadata": {
    "execution": {
     "iopub.execute_input": "2022-04-20T02:26:11.495393Z",
     "iopub.status.busy": "2022-04-20T02:26:11.495103Z",
     "iopub.status.idle": "2022-04-20T02:26:11.502577Z",
     "shell.execute_reply": "2022-04-20T02:26:11.501591Z",
     "shell.execute_reply.started": "2022-04-20T02:26:11.495361Z"
    }
   },
   "outputs": [],
   "source": [
    "## definimos columnas que no utilizaremos\n",
    "TO_DELETE = [\n",
    "    'MachineIdentifier',\n",
    "    'DefaultBrowsersIdentifier',\n",
    "    'ProductName',\n",
    "    'IsBeta',\n",
    "    'RtpStateBitfield', # ?\n",
    "    'IsSxsPassiveMode',\n",
    "    'AVProductsEnabled', # ?\n",
    "    'HasTpm',\n",
    "    'Platform',\n",
    "    'OrganizationIdentifier',\n",
    "    'OsVer', # ?\n",
    "    'IsProtected', # ?\n",
    "    'AutoSampleOptIn',\n",
    "    'Firewall', # ?\n",
    "    'PuaMode',\n",
    "    'UacLuaenable',\n",
    "    'SmartScreen',\n",
    "    'Census_ProcessorClass',\n",
    "    'Census_InternalBatteryType',\n",
    "    'Census_IsFlightingInternal',\n",
    "    'Census_ThresholdOptIn',\n",
    "    'Census_IsWIMBootEnabled',\n",
    "    'Census_DeviceFamily',\n",
    "    'Census_HasOpticalDiskDrive', # ?\n",
    "    'Census_OSArchitecture', # ?\n",
    "    'Census_IsPortableOperatingSystem',\n",
    "    'Census_IsFlightsDisabled',\n",
    "    'Census_IsVirtualDevice',\n",
    "    'Census_IsPenCapable',\n",
    "    'Census_IsAlwaysOnAlwaysConnectedCapable', # ?\n",
    "    'Census_FlightRing', # ?\n",
    "    'SMode'\n",
    "]"
   ]
  },
  {
   "cell_type": "markdown",
   "metadata": {},
   "source": [
    "LIMPIEZA DE COLUMNAS SELECCIONADAS"
   ]
  },
  {
   "cell_type": "code",
   "execution_count": null,
   "metadata": {
    "execution": {
     "iopub.execute_input": "2022-04-20T02:26:13.404139Z",
     "iopub.status.busy": "2022-04-20T02:26:13.403576Z",
     "iopub.status.idle": "2022-04-20T02:26:13.40797Z",
     "shell.execute_reply": "2022-04-20T02:26:13.407153Z",
     "shell.execute_reply.started": "2022-04-20T02:26:13.404104Z"
    }
   },
   "outputs": [],
   "source": [
    "TO_USE = [col for col in ALL if col not in TO_DELETE]"
   ]
  },
  {
   "cell_type": "code",
   "execution_count": null,
   "metadata": {
    "execution": {
     "iopub.execute_input": "2022-04-20T02:26:13.608501Z",
     "iopub.status.busy": "2022-04-20T02:26:13.608171Z",
     "iopub.status.idle": "2022-04-20T02:26:13.618954Z",
     "shell.execute_reply": "2022-04-20T02:26:13.618043Z",
     "shell.execute_reply.started": "2022-04-20T02:26:13.608468Z"
    }
   },
   "outputs": [],
   "source": [
    "for col in TO_USE:\n",
    "    print(col)"
   ]
  },
  {
   "cell_type": "code",
   "execution_count": null,
   "metadata": {
    "execution": {
     "iopub.execute_input": "2022-04-20T02:26:13.798018Z",
     "iopub.status.busy": "2022-04-20T02:26:13.797749Z",
     "iopub.status.idle": "2022-04-20T02:28:16.899649Z",
     "shell.execute_reply": "2022-04-20T02:28:16.898419Z",
     "shell.execute_reply.started": "2022-04-20T02:26:13.79799Z"
    }
   },
   "outputs": [],
   "source": [
    "## leemos dataset con únicamente las columnas útiles\n",
    "df = pd.read_csv(\n",
    "    PATHS['train'],\n",
    "    usecols=TO_USE\n",
    ")"
   ]
  },
  {
   "cell_type": "code",
   "execution_count": null,
   "metadata": {
    "execution": {
     "iopub.execute_input": "2022-04-20T02:28:16.902637Z",
     "iopub.status.busy": "2022-04-20T02:28:16.902324Z",
     "iopub.status.idle": "2022-04-20T02:28:16.91735Z",
     "shell.execute_reply": "2022-04-20T02:28:16.916242Z",
     "shell.execute_reply.started": "2022-04-20T02:28:16.902594Z"
    }
   },
   "outputs": [],
   "source": [
    "df.columns"
   ]
  },
  {
   "cell_type": "code",
   "execution_count": null,
   "metadata": {
    "execution": {
     "iopub.execute_input": "2022-04-20T02:28:16.919203Z",
     "iopub.status.busy": "2022-04-20T02:28:16.918934Z",
     "iopub.status.idle": "2022-04-20T02:28:35.220097Z",
     "shell.execute_reply": "2022-04-20T02:28:35.21927Z",
     "shell.execute_reply.started": "2022-04-20T02:28:16.919171Z"
    }
   },
   "outputs": [],
   "source": [
    "pd.set_option('display.max_rows', 100)\n",
    "\n",
    "df.isna().sum()"
   ]
  },
  {
   "cell_type": "code",
   "execution_count": null,
   "metadata": {
    "execution": {
     "iopub.execute_input": "2022-04-20T02:28:35.222372Z",
     "iopub.status.busy": "2022-04-20T02:28:35.221991Z",
     "iopub.status.idle": "2022-04-20T02:28:35.291144Z",
     "shell.execute_reply": "2022-04-20T02:28:35.290177Z",
     "shell.execute_reply.started": "2022-04-20T02:28:35.222337Z"
    }
   },
   "outputs": [],
   "source": [
    "df.Census_ProcessorCoreCount = df.Census_ProcessorCoreCount.fillna(random.choice([2.0, 4.0, 8.0]))"
   ]
  },
  {
   "cell_type": "code",
   "execution_count": null,
   "metadata": {
    "execution": {
     "iopub.execute_input": "2022-04-20T02:28:35.293031Z",
     "iopub.status.busy": "2022-04-20T02:28:35.292678Z",
     "iopub.status.idle": "2022-04-20T02:28:35.362787Z",
     "shell.execute_reply": "2022-04-20T02:28:35.36178Z",
     "shell.execute_reply.started": "2022-04-20T02:28:35.292987Z"
    }
   },
   "outputs": [],
   "source": [
    "df.Census_ProcessorManufacturerIdentifier = df.Census_ProcessorManufacturerIdentifier.fillna(5.0)"
   ]
  },
  {
   "cell_type": "code",
   "execution_count": null,
   "metadata": {
    "execution": {
     "iopub.execute_input": "2022-04-20T02:28:35.364788Z",
     "iopub.status.busy": "2022-04-20T02:28:35.364272Z",
     "iopub.status.idle": "2022-04-20T02:28:36.418436Z",
     "shell.execute_reply": "2022-04-20T02:28:36.417606Z",
     "shell.execute_reply.started": "2022-04-20T02:28:35.364738Z"
    }
   },
   "outputs": [],
   "source": [
    "df.Census_PrimaryDiskTypeName = df.Census_PrimaryDiskTypeName.fillna('UNKNOWN')"
   ]
  },
  {
   "cell_type": "code",
   "execution_count": null,
   "metadata": {
    "execution": {
     "iopub.execute_input": "2022-04-20T02:28:36.420401Z",
     "iopub.status.busy": "2022-04-20T02:28:36.420163Z",
     "iopub.status.idle": "2022-04-20T02:28:36.844744Z",
     "shell.execute_reply": "2022-04-20T02:28:36.843881Z",
     "shell.execute_reply.started": "2022-04-20T02:28:36.420371Z"
    }
   },
   "outputs": [],
   "source": [
    "df.Census_InternalBatteryNumberOfCharges = df.Census_InternalBatteryNumberOfCharges.fillna(df.Census_InternalBatteryNumberOfCharges.mode())"
   ]
  },
  {
   "cell_type": "code",
   "execution_count": null,
   "metadata": {
    "execution": {
     "iopub.execute_input": "2022-04-20T02:28:36.846769Z",
     "iopub.status.busy": "2022-04-20T02:28:36.846209Z",
     "iopub.status.idle": "2022-04-20T02:28:55.15725Z",
     "shell.execute_reply": "2022-04-20T02:28:55.156188Z",
     "shell.execute_reply.started": "2022-04-20T02:28:36.84673Z"
    }
   },
   "outputs": [],
   "source": [
    "pd.set_option('display.max_rows', 100)\n",
    "\n",
    "df.isna().sum()"
   ]
  },
  {
   "cell_type": "code",
   "execution_count": null,
   "metadata": {
    "execution": {
     "iopub.execute_input": "2022-04-20T02:28:55.158844Z",
     "iopub.status.busy": "2022-04-20T02:28:55.158616Z",
     "iopub.status.idle": "2022-04-20T02:29:16.203246Z",
     "shell.execute_reply": "2022-04-20T02:29:16.202296Z",
     "shell.execute_reply.started": "2022-04-20T02:28:55.158815Z"
    }
   },
   "outputs": [],
   "source": [
    "clean_df = df.dropna()"
   ]
  },
  {
   "cell_type": "code",
   "execution_count": null,
   "metadata": {
    "execution": {
     "iopub.execute_input": "2022-04-20T02:29:16.205975Z",
     "iopub.status.busy": "2022-04-20T02:29:16.205738Z",
     "iopub.status.idle": "2022-04-20T02:29:16.212494Z",
     "shell.execute_reply": "2022-04-20T02:29:16.211566Z",
     "shell.execute_reply.started": "2022-04-20T02:29:16.205948Z"
    }
   },
   "outputs": [],
   "source": [
    "clean_df.shape"
   ]
  },
  {
   "cell_type": "code",
   "execution_count": null,
   "metadata": {
    "execution": {
     "iopub.execute_input": "2022-04-20T02:29:16.214212Z",
     "iopub.status.busy": "2022-04-20T02:29:16.213908Z",
     "iopub.status.idle": "2022-04-20T02:34:24.568878Z",
     "shell.execute_reply": "2022-04-20T02:34:24.568147Z",
     "shell.execute_reply.started": "2022-04-20T02:29:16.214154Z"
    }
   },
   "outputs": [],
   "source": [
    "## guardamos el dataset procesado a un nuevo archivo csv\n",
    "clean_df.to_csv('./clean_train.csv')"
   ]
  }
 ],
 "metadata": {
  "kernelspec": {
   "display_name": "Python 3",
   "language": "python",
   "name": "python3"
  },
  "language_info": {
   "codemirror_mode": {
    "name": "ipython",
    "version": 3
   },
   "file_extension": ".py",
   "mimetype": "text/x-python",
   "name": "python",
   "nbconvert_exporter": "python",
   "pygments_lexer": "ipython3",
   "version": "3.8.2"
  }
 },
 "nbformat": 4,
 "nbformat_minor": 4
}
