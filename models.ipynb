{
 "cells": [
  {
   "cell_type": "code",
   "execution_count": 152,
   "metadata": {
    "execution": {
     "iopub.execute_input": "2022-04-23T03:20:52.341766Z",
     "iopub.status.busy": "2022-04-23T03:20:52.341507Z",
     "iopub.status.idle": "2022-04-23T03:20:52.354881Z",
     "shell.execute_reply": "2022-04-23T03:20:52.354223Z",
     "shell.execute_reply.started": "2022-04-23T03:20:52.341735Z"
    }
   },
   "outputs": [],
   "source": [
    "# dataframe and math\n",
    "import pandas as pd\n",
    "import numpy as np\n",
    "import xgboost as xg\n",
    "\n",
    "# sklearn\n",
    "from sklearn.preprocessing import LabelEncoder\n",
    "\n",
    "# random module\n",
    "import random\n",
    "\n",
    "# visuals\n",
    "import seaborn as sns\n",
    "import matplotlib.pyplot as plt\n",
    "%matplotlib inline\n",
    "\n",
    "from sklearn.ensemble import RandomForestClassifier\n",
    "from sklearn.metrics import accuracy_score,classification_report,confusion_matrix,mean_squared_error,roc_curve\n",
    "from sklearn.preprocessing import StandardScaler, normalize\n",
    "from sklearn.model_selection import KFold, cross_val_score\n",
    "from scikitplot.metrics import plot_roc"
   ]
  },
  {
   "cell_type": "code",
   "execution_count": 155,
   "metadata": {
    "execution": {
     "iopub.execute_input": "2022-04-23T03:20:52.356728Z",
     "iopub.status.busy": "2022-04-23T03:20:52.355933Z",
     "iopub.status.idle": "2022-04-23T03:20:52.366792Z",
     "shell.execute_reply": "2022-04-23T03:20:52.366128Z",
     "shell.execute_reply.started": "2022-04-23T03:20:52.356652Z"
    }
   },
   "outputs": [],
   "source": [
    "PATHS = {\n",
    "    'train': 'train.csv',\n",
    "    'test': 'test.csv',\n",
    "    'clean_train': \"clean_train.csv\"\n",
    "}"
   ]
  },
  {
   "cell_type": "markdown",
   "metadata": {},
   "source": [
    "DIVISION DE DATASETS"
   ]
  },
  {
   "cell_type": "code",
   "execution_count": 156,
   "metadata": {
    "execution": {
     "iopub.execute_input": "2022-04-23T03:20:52.368564Z",
     "iopub.status.busy": "2022-04-23T03:20:52.367982Z",
     "iopub.status.idle": "2022-04-23T03:22:10.254026Z",
     "shell.execute_reply": "2022-04-23T03:22:10.251667Z",
     "shell.execute_reply.started": "2022-04-23T03:20:52.368525Z"
    }
   },
   "outputs": [
    {
     "name": "stderr",
     "output_type": "stream",
     "text": [
      "c:\\users\\majo\\appdata\\local\\programs\\python\\python38\\lib\\site-packages\\numpy\\lib\\arraysetops.py:580: FutureWarning: elementwise comparison failed; returning scalar instead, but in the future will perform elementwise comparison\n",
      "  mask |= (ar1 == a)\n"
     ]
    }
   ],
   "source": [
    "clean_df = pd.read_csv(\n",
    "    PATHS['clean_train'],\n",
    "    index_col=0\n",
    ")"
   ]
  },
  {
   "cell_type": "code",
   "execution_count": 157,
   "metadata": {
    "execution": {
     "iopub.execute_input": "2022-04-23T03:22:10.255887Z",
     "iopub.status.busy": "2022-04-23T03:22:10.255644Z",
     "iopub.status.idle": "2022-04-23T03:22:10.280036Z",
     "shell.execute_reply": "2022-04-23T03:22:10.279369Z",
     "shell.execute_reply.started": "2022-04-23T03:22:10.255859Z"
    }
   },
   "outputs": [
    {
     "name": "stdout",
     "output_type": "stream",
     "text": [
      "<class 'pandas.core.frame.DataFrame'>\n",
      "Int64Index: 7735561 entries, 0 to 8921482\n",
      "Data columns (total 51 columns):\n",
      " #   Column                                             Dtype  \n",
      "---  ------                                             -----  \n",
      " 0   EngineVersion                                      object \n",
      " 1   AppVersion                                         object \n",
      " 2   AvSigVersion                                       object \n",
      " 3   AVProductStatesIdentifier                          float64\n",
      " 4   AVProductsInstalled                                float64\n",
      " 5   CountryIdentifier                                  int64  \n",
      " 6   CityIdentifier                                     float64\n",
      " 7   GeoNameIdentifier                                  float64\n",
      " 8   LocaleEnglishNameIdentifier                        int64  \n",
      " 9   Processor                                          object \n",
      " 10  OsBuild                                            int64  \n",
      " 11  OsSuite                                            int64  \n",
      " 12  OsPlatformSubRelease                               object \n",
      " 13  OsBuildLab                                         object \n",
      " 14  SkuEdition                                         object \n",
      " 15  IeVerIdentifier                                    float64\n",
      " 16  Census_MDC2FormFactor                              object \n",
      " 17  Census_OEMNameIdentifier                           float64\n",
      " 18  Census_OEMModelIdentifier                          float64\n",
      " 19  Census_ProcessorCoreCount                          float64\n",
      " 20  Census_ProcessorManufacturerIdentifier             float64\n",
      " 21  Census_ProcessorModelIdentifier                    float64\n",
      " 22  Census_PrimaryDiskTotalCapacity                    float64\n",
      " 23  Census_PrimaryDiskTypeName                         object \n",
      " 24  Census_SystemVolumeTotalCapacity                   float64\n",
      " 25  Census_TotalPhysicalRAM                            float64\n",
      " 26  Census_ChassisTypeName                             object \n",
      " 27  Census_InternalPrimaryDiagonalDisplaySizeInInches  float64\n",
      " 28  Census_InternalPrimaryDisplayResolutionHorizontal  float64\n",
      " 29  Census_InternalPrimaryDisplayResolutionVertical    float64\n",
      " 30  Census_PowerPlatformRoleName                       object \n",
      " 31  Census_InternalBatteryNumberOfCharges              float64\n",
      " 32  Census_OSVersion                                   object \n",
      " 33  Census_OSBranch                                    object \n",
      " 34  Census_OSBuildNumber                               int64  \n",
      " 35  Census_OSBuildRevision                             int64  \n",
      " 36  Census_OSEdition                                   object \n",
      " 37  Census_OSSkuName                                   object \n",
      " 38  Census_OSInstallTypeName                           object \n",
      " 39  Census_OSInstallLanguageIdentifier                 float64\n",
      " 40  Census_OSUILocaleIdentifier                        int64  \n",
      " 41  Census_OSWUAutoUpdateOptionsName                   object \n",
      " 42  Census_GenuineStateName                            object \n",
      " 43  Census_ActivationChannel                           object \n",
      " 44  Census_FirmwareManufacturerIdentifier              float64\n",
      " 45  Census_FirmwareVersionIdentifier                   float64\n",
      " 46  Census_IsSecureBootEnabled                         int64  \n",
      " 47  Census_IsTouchEnabled                              int64  \n",
      " 48  Wdft_IsGamer                                       float64\n",
      " 49  Wdft_RegionIdentifier                              float64\n",
      " 50  HasDetections                                      int64  \n",
      "dtypes: float64(22), int64(10), object(19)\n",
      "memory usage: 3.0+ GB\n"
     ]
    }
   ],
   "source": [
    "clean_df.info()"
   ]
  },
  {
   "cell_type": "code",
   "execution_count": 158,
   "metadata": {
    "execution": {
     "iopub.execute_input": "2022-04-23T03:22:10.282055Z",
     "iopub.status.busy": "2022-04-23T03:22:10.281382Z",
     "iopub.status.idle": "2022-04-23T03:22:10.285985Z",
     "shell.execute_reply": "2022-04-23T03:22:10.285360Z",
     "shell.execute_reply.started": "2022-04-23T03:22:10.282015Z"
    }
   },
   "outputs": [],
   "source": [
    "HIGH_CARDINALITY = [\n",
    "    'EngineVersion',\n",
    "    'AppVersion', \n",
    "    'AvSigVersion',\n",
    "    'OsBuildLab'\n",
    "]"
   ]
  },
  {
   "cell_type": "code",
   "execution_count": 159,
   "metadata": {
    "execution": {
     "iopub.execute_input": "2022-04-23T03:22:10.287817Z",
     "iopub.status.busy": "2022-04-23T03:22:10.287374Z",
     "iopub.status.idle": "2022-04-23T03:22:12.403243Z",
     "shell.execute_reply": "2022-04-23T03:22:12.402472Z",
     "shell.execute_reply.started": "2022-04-23T03:22:10.287781Z"
    }
   },
   "outputs": [],
   "source": [
    "clean_df = clean_df.drop(HIGH_CARDINALITY, axis=1)"
   ]
  },
  {
   "cell_type": "code",
   "execution_count": 160,
   "metadata": {
    "execution": {
     "iopub.execute_input": "2022-04-23T03:22:12.404956Z",
     "iopub.status.busy": "2022-04-23T03:22:12.404350Z",
     "iopub.status.idle": "2022-04-23T03:22:15.431229Z",
     "shell.execute_reply": "2022-04-23T03:22:15.430529Z",
     "shell.execute_reply.started": "2022-04-23T03:22:12.404922Z"
    }
   },
   "outputs": [],
   "source": [
    "has_battery = []\n",
    "\n",
    "for record in clean_df['Census_InternalBatteryNumberOfCharges']:\n",
    "    entry = record if record == 0 else 1\n",
    "    has_battery.append(entry)"
   ]
  },
  {
   "cell_type": "code",
   "execution_count": 161,
   "metadata": {
    "execution": {
     "iopub.execute_input": "2022-04-23T03:22:15.432772Z",
     "iopub.status.busy": "2022-04-23T03:22:15.432404Z",
     "iopub.status.idle": "2022-04-23T03:22:17.388074Z",
     "shell.execute_reply": "2022-04-23T03:22:17.387168Z",
     "shell.execute_reply.started": "2022-04-23T03:22:15.432742Z"
    }
   },
   "outputs": [],
   "source": [
    "has_battery_series = pd.Series(has_battery)\n",
    "clean_df['HasBatteryCharges'] = has_battery_series.values"
   ]
  },
  {
   "cell_type": "code",
   "execution_count": 162,
   "metadata": {
    "execution": {
     "iopub.execute_input": "2022-04-23T03:22:17.389781Z",
     "iopub.status.busy": "2022-04-23T03:22:17.389221Z",
     "iopub.status.idle": "2022-04-23T03:22:20.445574Z",
     "shell.execute_reply": "2022-04-23T03:22:20.444666Z",
     "shell.execute_reply.started": "2022-04-23T03:22:17.389747Z"
    }
   },
   "outputs": [],
   "source": [
    "clean_df = clean_df.drop('Census_InternalBatteryNumberOfCharges', axis=1)"
   ]
  },
  {
   "cell_type": "code",
   "execution_count": 163,
   "metadata": {
    "execution": {
     "iopub.execute_input": "2022-04-23T03:22:20.447258Z",
     "iopub.status.busy": "2022-04-23T03:22:20.446922Z",
     "iopub.status.idle": "2022-04-23T03:22:20.454701Z",
     "shell.execute_reply": "2022-04-23T03:22:20.453795Z",
     "shell.execute_reply.started": "2022-04-23T03:22:20.447197Z"
    }
   },
   "outputs": [],
   "source": [
    "TO_CATEGORY = clean_df.columns[clean_df.dtypes.eq('object')]\n",
    "\n",
    "TO_CATEGORY_NUMERIC = [\n",
    "    'Census_IsSecureBootEnabled',\n",
    "    'Census_IsTouchEnabled',\n",
    "    'Wdft_IsGamer',\n",
    "    'Wdft_RegionIdentifier'\n",
    "]"
   ]
  },
  {
   "cell_type": "code",
   "execution_count": 164,
   "metadata": {
    "execution": {
     "iopub.execute_input": "2022-04-23T03:22:20.456581Z",
     "iopub.status.busy": "2022-04-23T03:22:20.456231Z",
     "iopub.status.idle": "2022-04-23T03:23:14.449719Z",
     "shell.execute_reply": "2022-04-23T03:23:14.448847Z",
     "shell.execute_reply.started": "2022-04-23T03:22:20.456540Z"
    }
   },
   "outputs": [],
   "source": [
    "le = LabelEncoder()\n",
    "\n",
    "clean_df[TO_CATEGORY] = clean_df[TO_CATEGORY].apply(le.fit_transform)\n",
    "clean_df[TO_CATEGORY_NUMERIC] = clean_df[TO_CATEGORY_NUMERIC].apply(le.fit_transform)"
   ]
  },
  {
   "cell_type": "code",
   "execution_count": 165,
   "metadata": {
    "execution": {
     "iopub.execute_input": "2022-04-23T03:23:14.451268Z",
     "iopub.status.busy": "2022-04-23T03:23:14.451026Z",
     "iopub.status.idle": "2022-04-23T03:23:14.495789Z",
     "shell.execute_reply": "2022-04-23T03:23:14.494929Z",
     "shell.execute_reply.started": "2022-04-23T03:23:14.451239Z"
    }
   },
   "outputs": [
    {
     "data": {
      "text/html": [
       "<div>\n",
       "<style scoped>\n",
       "    .dataframe tbody tr th:only-of-type {\n",
       "        vertical-align: middle;\n",
       "    }\n",
       "\n",
       "    .dataframe tbody tr th {\n",
       "        vertical-align: top;\n",
       "    }\n",
       "\n",
       "    .dataframe thead th {\n",
       "        text-align: right;\n",
       "    }\n",
       "</style>\n",
       "<table border=\"1\" class=\"dataframe\">\n",
       "  <thead>\n",
       "    <tr style=\"text-align: right;\">\n",
       "      <th></th>\n",
       "      <th>AVProductStatesIdentifier</th>\n",
       "      <th>AVProductsInstalled</th>\n",
       "      <th>CountryIdentifier</th>\n",
       "      <th>CityIdentifier</th>\n",
       "      <th>GeoNameIdentifier</th>\n",
       "      <th>LocaleEnglishNameIdentifier</th>\n",
       "      <th>Processor</th>\n",
       "      <th>OsBuild</th>\n",
       "      <th>OsSuite</th>\n",
       "      <th>OsPlatformSubRelease</th>\n",
       "      <th>...</th>\n",
       "      <th>Census_GenuineStateName</th>\n",
       "      <th>Census_ActivationChannel</th>\n",
       "      <th>Census_FirmwareManufacturerIdentifier</th>\n",
       "      <th>Census_FirmwareVersionIdentifier</th>\n",
       "      <th>Census_IsSecureBootEnabled</th>\n",
       "      <th>Census_IsTouchEnabled</th>\n",
       "      <th>Wdft_IsGamer</th>\n",
       "      <th>Wdft_RegionIdentifier</th>\n",
       "      <th>HasDetections</th>\n",
       "      <th>HasBatteryCharges</th>\n",
       "    </tr>\n",
       "  </thead>\n",
       "  <tbody>\n",
       "    <tr>\n",
       "      <th>0</th>\n",
       "      <td>53447.0</td>\n",
       "      <td>1.0</td>\n",
       "      <td>29</td>\n",
       "      <td>128035.0</td>\n",
       "      <td>35.0</td>\n",
       "      <td>171</td>\n",
       "      <td>1</td>\n",
       "      <td>17134</td>\n",
       "      <td>256</td>\n",
       "      <td>4</td>\n",
       "      <td>...</td>\n",
       "      <td>1</td>\n",
       "      <td>2</td>\n",
       "      <td>628.0</td>\n",
       "      <td>36144.0</td>\n",
       "      <td>0</td>\n",
       "      <td>0</td>\n",
       "      <td>0</td>\n",
       "      <td>9</td>\n",
       "      <td>0</td>\n",
       "      <td>1.0</td>\n",
       "    </tr>\n",
       "    <tr>\n",
       "      <th>1</th>\n",
       "      <td>53447.0</td>\n",
       "      <td>1.0</td>\n",
       "      <td>93</td>\n",
       "      <td>1482.0</td>\n",
       "      <td>119.0</td>\n",
       "      <td>64</td>\n",
       "      <td>1</td>\n",
       "      <td>17134</td>\n",
       "      <td>256</td>\n",
       "      <td>4</td>\n",
       "      <td>...</td>\n",
       "      <td>2</td>\n",
       "      <td>2</td>\n",
       "      <td>628.0</td>\n",
       "      <td>57858.0</td>\n",
       "      <td>0</td>\n",
       "      <td>0</td>\n",
       "      <td>0</td>\n",
       "      <td>7</td>\n",
       "      <td>0</td>\n",
       "      <td>1.0</td>\n",
       "    </tr>\n",
       "    <tr>\n",
       "      <th>2</th>\n",
       "      <td>53447.0</td>\n",
       "      <td>1.0</td>\n",
       "      <td>86</td>\n",
       "      <td>153579.0</td>\n",
       "      <td>64.0</td>\n",
       "      <td>49</td>\n",
       "      <td>1</td>\n",
       "      <td>17134</td>\n",
       "      <td>768</td>\n",
       "      <td>4</td>\n",
       "      <td>...</td>\n",
       "      <td>1</td>\n",
       "      <td>1</td>\n",
       "      <td>142.0</td>\n",
       "      <td>52682.0</td>\n",
       "      <td>0</td>\n",
       "      <td>0</td>\n",
       "      <td>0</td>\n",
       "      <td>2</td>\n",
       "      <td>0</td>\n",
       "      <td>1.0</td>\n",
       "    </tr>\n",
       "    <tr>\n",
       "      <th>3</th>\n",
       "      <td>53447.0</td>\n",
       "      <td>1.0</td>\n",
       "      <td>88</td>\n",
       "      <td>20710.0</td>\n",
       "      <td>117.0</td>\n",
       "      <td>115</td>\n",
       "      <td>1</td>\n",
       "      <td>17134</td>\n",
       "      <td>256</td>\n",
       "      <td>4</td>\n",
       "      <td>...</td>\n",
       "      <td>1</td>\n",
       "      <td>1</td>\n",
       "      <td>355.0</td>\n",
       "      <td>20050.0</td>\n",
       "      <td>0</td>\n",
       "      <td>0</td>\n",
       "      <td>0</td>\n",
       "      <td>2</td>\n",
       "      <td>1</td>\n",
       "      <td>1.0</td>\n",
       "    </tr>\n",
       "    <tr>\n",
       "      <th>4</th>\n",
       "      <td>53447.0</td>\n",
       "      <td>1.0</td>\n",
       "      <td>18</td>\n",
       "      <td>37376.0</td>\n",
       "      <td>277.0</td>\n",
       "      <td>75</td>\n",
       "      <td>1</td>\n",
       "      <td>17134</td>\n",
       "      <td>768</td>\n",
       "      <td>4</td>\n",
       "      <td>...</td>\n",
       "      <td>1</td>\n",
       "      <td>2</td>\n",
       "      <td>355.0</td>\n",
       "      <td>19844.0</td>\n",
       "      <td>0</td>\n",
       "      <td>0</td>\n",
       "      <td>0</td>\n",
       "      <td>0</td>\n",
       "      <td>1</td>\n",
       "      <td>0.0</td>\n",
       "    </tr>\n",
       "  </tbody>\n",
       "</table>\n",
       "<p>5 rows × 47 columns</p>\n",
       "</div>"
      ],
      "text/plain": [
       "   AVProductStatesIdentifier  AVProductsInstalled  CountryIdentifier  \\\n",
       "0                    53447.0                  1.0                 29   \n",
       "1                    53447.0                  1.0                 93   \n",
       "2                    53447.0                  1.0                 86   \n",
       "3                    53447.0                  1.0                 88   \n",
       "4                    53447.0                  1.0                 18   \n",
       "\n",
       "   CityIdentifier  GeoNameIdentifier  LocaleEnglishNameIdentifier  Processor  \\\n",
       "0        128035.0               35.0                          171          1   \n",
       "1          1482.0              119.0                           64          1   \n",
       "2        153579.0               64.0                           49          1   \n",
       "3         20710.0              117.0                          115          1   \n",
       "4         37376.0              277.0                           75          1   \n",
       "\n",
       "   OsBuild  OsSuite  OsPlatformSubRelease  ...  Census_GenuineStateName  \\\n",
       "0    17134      256                     4  ...                        1   \n",
       "1    17134      256                     4  ...                        2   \n",
       "2    17134      768                     4  ...                        1   \n",
       "3    17134      256                     4  ...                        1   \n",
       "4    17134      768                     4  ...                        1   \n",
       "\n",
       "   Census_ActivationChannel  Census_FirmwareManufacturerIdentifier  \\\n",
       "0                         2                                  628.0   \n",
       "1                         2                                  628.0   \n",
       "2                         1                                  142.0   \n",
       "3                         1                                  355.0   \n",
       "4                         2                                  355.0   \n",
       "\n",
       "   Census_FirmwareVersionIdentifier  Census_IsSecureBootEnabled  \\\n",
       "0                           36144.0                           0   \n",
       "1                           57858.0                           0   \n",
       "2                           52682.0                           0   \n",
       "3                           20050.0                           0   \n",
       "4                           19844.0                           0   \n",
       "\n",
       "   Census_IsTouchEnabled  Wdft_IsGamer  Wdft_RegionIdentifier  HasDetections  \\\n",
       "0                      0             0                      9              0   \n",
       "1                      0             0                      7              0   \n",
       "2                      0             0                      2              0   \n",
       "3                      0             0                      2              1   \n",
       "4                      0             0                      0              1   \n",
       "\n",
       "   HasBatteryCharges  \n",
       "0                1.0  \n",
       "1                1.0  \n",
       "2                1.0  \n",
       "3                1.0  \n",
       "4                0.0  \n",
       "\n",
       "[5 rows x 47 columns]"
      ]
     },
     "execution_count": 165,
     "metadata": {},
     "output_type": "execute_result"
    }
   ],
   "source": [
    "clean_df.head()"
   ]
  },
  {
   "cell_type": "code",
   "execution_count": 166,
   "metadata": {
    "execution": {
     "iopub.execute_input": "2022-04-23T03:23:14.497195Z",
     "iopub.status.busy": "2022-04-23T03:23:14.496971Z",
     "iopub.status.idle": "2022-04-23T03:23:14.510698Z",
     "shell.execute_reply": "2022-04-23T03:23:14.509868Z",
     "shell.execute_reply.started": "2022-04-23T03:23:14.497168Z"
    }
   },
   "outputs": [
    {
     "name": "stdout",
     "output_type": "stream",
     "text": [
      "<class 'pandas.core.frame.DataFrame'>\n",
      "Int64Index: 7735561 entries, 0 to 8921482\n",
      "Data columns (total 47 columns):\n",
      " #   Column                                             Dtype  \n",
      "---  ------                                             -----  \n",
      " 0   AVProductStatesIdentifier                          float64\n",
      " 1   AVProductsInstalled                                float64\n",
      " 2   CountryIdentifier                                  int64  \n",
      " 3   CityIdentifier                                     float64\n",
      " 4   GeoNameIdentifier                                  float64\n",
      " 5   LocaleEnglishNameIdentifier                        int64  \n",
      " 6   Processor                                          int32  \n",
      " 7   OsBuild                                            int64  \n",
      " 8   OsSuite                                            int64  \n",
      " 9   OsPlatformSubRelease                               int32  \n",
      " 10  SkuEdition                                         int32  \n",
      " 11  IeVerIdentifier                                    float64\n",
      " 12  Census_MDC2FormFactor                              int32  \n",
      " 13  Census_OEMNameIdentifier                           float64\n",
      " 14  Census_OEMModelIdentifier                          float64\n",
      " 15  Census_ProcessorCoreCount                          float64\n",
      " 16  Census_ProcessorManufacturerIdentifier             float64\n",
      " 17  Census_ProcessorModelIdentifier                    float64\n",
      " 18  Census_PrimaryDiskTotalCapacity                    float64\n",
      " 19  Census_PrimaryDiskTypeName                         int32  \n",
      " 20  Census_SystemVolumeTotalCapacity                   float64\n",
      " 21  Census_TotalPhysicalRAM                            float64\n",
      " 22  Census_ChassisTypeName                             int32  \n",
      " 23  Census_InternalPrimaryDiagonalDisplaySizeInInches  float64\n",
      " 24  Census_InternalPrimaryDisplayResolutionHorizontal  float64\n",
      " 25  Census_InternalPrimaryDisplayResolutionVertical    float64\n",
      " 26  Census_PowerPlatformRoleName                       int32  \n",
      " 27  Census_OSVersion                                   int32  \n",
      " 28  Census_OSBranch                                    int32  \n",
      " 29  Census_OSBuildNumber                               int64  \n",
      " 30  Census_OSBuildRevision                             int64  \n",
      " 31  Census_OSEdition                                   int32  \n",
      " 32  Census_OSSkuName                                   int32  \n",
      " 33  Census_OSInstallTypeName                           int32  \n",
      " 34  Census_OSInstallLanguageIdentifier                 float64\n",
      " 35  Census_OSUILocaleIdentifier                        int64  \n",
      " 36  Census_OSWUAutoUpdateOptionsName                   int32  \n",
      " 37  Census_GenuineStateName                            int32  \n",
      " 38  Census_ActivationChannel                           int32  \n",
      " 39  Census_FirmwareManufacturerIdentifier              float64\n",
      " 40  Census_FirmwareVersionIdentifier                   float64\n",
      " 41  Census_IsSecureBootEnabled                         int64  \n",
      " 42  Census_IsTouchEnabled                              int64  \n",
      " 43  Wdft_IsGamer                                       int64  \n",
      " 44  Wdft_RegionIdentifier                              int64  \n",
      " 45  HasDetections                                      int64  \n",
      " 46  HasBatteryCharges                                  float64\n",
      "dtypes: float64(20), int32(15), int64(12)\n",
      "memory usage: 2.3 GB\n"
     ]
    }
   ],
   "source": [
    "clean_df.info()"
   ]
  },
  {
   "cell_type": "markdown",
   "metadata": {},
   "source": [
    "X & Y"
   ]
  },
  {
   "cell_type": "code",
   "execution_count": 167,
   "metadata": {
    "execution": {
     "iopub.execute_input": "2022-04-23T03:23:21.873221Z",
     "iopub.status.busy": "2022-04-23T03:23:21.872477Z",
     "iopub.status.idle": "2022-04-23T03:23:21.876654Z",
     "shell.execute_reply": "2022-04-23T03:23:21.876083Z",
     "shell.execute_reply.started": "2022-04-23T03:23:21.873170Z"
    }
   },
   "outputs": [],
   "source": [
    "target = clean_df['HasDetections']"
   ]
  },
  {
   "cell_type": "code",
   "execution_count": 168,
   "metadata": {
    "execution": {
     "iopub.execute_input": "2022-04-23T03:23:22.320229Z",
     "iopub.status.busy": "2022-04-23T03:23:22.319734Z",
     "iopub.status.idle": "2022-04-23T03:23:24.718991Z",
     "shell.execute_reply": "2022-04-23T03:23:24.717999Z",
     "shell.execute_reply.started": "2022-04-23T03:23:22.320167Z"
    }
   },
   "outputs": [],
   "source": [
    "features = clean_df.drop('HasDetections', axis=1)"
   ]
  },
  {
   "cell_type": "code",
   "execution_count": 169,
   "metadata": {
    "execution": {
     "iopub.execute_input": "2022-04-23T03:23:24.776472Z",
     "iopub.status.busy": "2022-04-23T03:23:24.776143Z",
     "iopub.status.idle": "2022-04-23T03:23:24.866853Z",
     "shell.execute_reply": "2022-04-23T03:23:24.866164Z",
     "shell.execute_reply.started": "2022-04-23T03:23:24.776433Z"
    }
   },
   "outputs": [],
   "source": [
    "from sklearn.model_selection import train_test_split"
   ]
  },
  {
   "cell_type": "code",
   "execution_count": 170,
   "metadata": {
    "execution": {
     "iopub.execute_input": "2022-04-23T03:23:30.318835Z",
     "iopub.status.busy": "2022-04-23T03:23:30.318557Z",
     "iopub.status.idle": "2022-04-23T03:23:30.323342Z",
     "shell.execute_reply": "2022-04-23T03:23:30.322482Z",
     "shell.execute_reply.started": "2022-04-23T03:23:30.318805Z"
    }
   },
   "outputs": [],
   "source": [
    "sample_ratio = 0.25"
   ]
  },
  {
   "cell_type": "code",
   "execution_count": 171,
   "metadata": {
    "execution": {
     "iopub.execute_input": "2022-04-23T03:23:30.800591Z",
     "iopub.status.busy": "2022-04-23T03:23:30.799950Z",
     "iopub.status.idle": "2022-04-23T03:23:38.596952Z",
     "shell.execute_reply": "2022-04-23T03:23:38.596115Z",
     "shell.execute_reply.started": "2022-04-23T03:23:30.800531Z"
    }
   },
   "outputs": [],
   "source": [
    "_, X_sample, _, y_sample = train_test_split(features, target, test_size = sample_ratio)"
   ]
  },
  {
   "cell_type": "code",
   "execution_count": 172,
   "metadata": {
    "execution": {
     "iopub.execute_input": "2022-04-23T03:23:38.598896Z",
     "iopub.status.busy": "2022-04-23T03:23:38.598680Z",
     "iopub.status.idle": "2022-04-23T03:23:38.604097Z",
     "shell.execute_reply": "2022-04-23T03:23:38.603268Z",
     "shell.execute_reply.started": "2022-04-23T03:23:38.598869Z"
    }
   },
   "outputs": [
    {
     "name": "stdout",
     "output_type": "stream",
     "text": [
      "Se trabajará con una muestra del 25% de los datos originales\n"
     ]
    }
   ],
   "source": [
    "print(\"Se trabajará con una muestra del %.0f%% de los datos originales\" % (len(X_sample) / len(clean_df) * 100))"
   ]
  },
  {
   "cell_type": "code",
   "execution_count": 173,
   "metadata": {
    "execution": {
     "iopub.execute_input": "2022-04-23T03:23:38.606159Z",
     "iopub.status.busy": "2022-04-23T03:23:38.605517Z",
     "iopub.status.idle": "2022-04-23T03:23:38.628639Z",
     "shell.execute_reply": "2022-04-23T03:23:38.627756Z",
     "shell.execute_reply.started": "2022-04-23T03:23:38.606121Z"
    }
   },
   "outputs": [
    {
     "data": {
      "text/plain": [
       "1    968966\n",
       "0    964925\n",
       "Name: HasDetections, dtype: int64"
      ]
     },
     "execution_count": 173,
     "metadata": {},
     "output_type": "execute_result"
    }
   ],
   "source": [
    "## Revisamos el balance de los datos\n",
    "y_sample.value_counts()"
   ]
  },
  {
   "cell_type": "markdown",
   "metadata": {},
   "source": [
    "SCALING"
   ]
  },
  {
   "cell_type": "code",
   "execution_count": 174,
   "metadata": {
    "execution": {
     "iopub.execute_input": "2022-04-23T03:23:38.910175Z",
     "iopub.status.busy": "2022-04-23T03:23:38.909380Z",
     "iopub.status.idle": "2022-04-23T03:23:38.914247Z",
     "shell.execute_reply": "2022-04-23T03:23:38.913371Z",
     "shell.execute_reply.started": "2022-04-23T03:23:38.910127Z"
    }
   },
   "outputs": [],
   "source": [
    "df_columns = X_sample.columns"
   ]
  },
  {
   "cell_type": "code",
   "execution_count": 177,
   "metadata": {
    "execution": {
     "iopub.execute_input": "2022-04-23T03:23:41.272783Z",
     "iopub.status.busy": "2022-04-23T03:23:41.272038Z",
     "iopub.status.idle": "2022-04-23T03:23:41.276892Z",
     "shell.execute_reply": "2022-04-23T03:23:41.276159Z",
     "shell.execute_reply.started": "2022-04-23T03:23:41.272729Z"
    }
   },
   "outputs": [],
   "source": [
    "s_scaler = StandardScaler()"
   ]
  },
  {
   "cell_type": "code",
   "execution_count": 178,
   "metadata": {
    "execution": {
     "iopub.execute_input": "2022-04-23T03:24:44.615814Z",
     "iopub.status.busy": "2022-04-23T03:24:44.614988Z",
     "iopub.status.idle": "2022-04-23T03:24:46.335590Z",
     "shell.execute_reply": "2022-04-23T03:24:46.334919Z",
     "shell.execute_reply.started": "2022-04-23T03:24:44.615777Z"
    }
   },
   "outputs": [],
   "source": [
    "X_scaled = s_scaler.fit_transform(X_sample)\n",
    "X_scaled = pd.DataFrame(X_scaled, columns=df_columns)"
   ]
  },
  {
   "cell_type": "markdown",
   "metadata": {},
   "source": [
    "MODELS"
   ]
  },
  {
   "cell_type": "code",
   "execution_count": 217,
   "metadata": {},
   "outputs": [],
   "source": [
    "def plot_roc_curve(model,X_test,y_test,is_xgb=False):\n",
    "    n_classes = 2\n",
    "    fpr = dict()\n",
    "    tpr = dict()\n",
    "    for i in range(n_classes):\n",
    "        if is_xgb:\n",
    "            preds = model.predict(X_test)\n",
    "            fpr[i], tpr[i], _ = roc_curve(y_test, [1.0 - f for f in preds], pos_label=i)\n",
    "        else:\n",
    "            fpr[i], tpr[i], _ = roc_curve(y_test, model.predict_proba(X_test)[:,i], pos_label=i)\n",
    "\n",
    "    plt.plot(fpr[0], tpr[0], linestyle='--',color='orange', label='Denial of Service R-U-Dead-Yet vs Rest')\n",
    "    plt.plot(fpr[1], tpr[1], linestyle='--',color='green', label='Denial of Service Slowloris vs Rest')\n",
    " \n",
    "    plt.title('Multiclass ROC curve')\n",
    "    plt.xlabel('False Positive Rate')\n",
    "    plt.ylabel('True Positive rate')\n",
    "    plt.legend(loc='best')\n",
    "    plt.savefig('Multiclass ROC',dpi=300)"
   ]
  },
  {
   "cell_type": "code",
   "execution_count": 180,
   "metadata": {
    "execution": {
     "iopub.execute_input": "2022-04-23T03:23:52.007502Z",
     "iopub.status.busy": "2022-04-23T03:23:52.006630Z",
     "iopub.status.idle": "2022-04-23T03:23:52.016783Z",
     "shell.execute_reply": "2022-04-23T03:23:52.015648Z",
     "shell.execute_reply.started": "2022-04-23T03:23:52.007451Z"
    }
   },
   "outputs": [],
   "source": [
    "## function for plotting confusion matrix in a more comprehensive format\n",
    "def plot_confusion_matrix(matrix, title):\n",
    "    group_names = ['Real Negativo','Falso Positivo','Falso Negativo','Real Positivo']\n",
    "    group_counts = [\"{0:0.0f}\".format(value) for value in matrix.flatten()]\n",
    "    group_percentages = [\"{0:.2%}\".format(value) for value in matrix.flatten() / np.sum(matrix)]\n",
    "\n",
    "    labels = [f\"{v1}\\n{v2}\\n{v3}\" for v1, v2, v3 in zip(group_names,group_counts,group_percentages)]\n",
    "    labels = np.asarray(labels).reshape(2,2)\n",
    "\n",
    "    ax = sns.heatmap(matrix, annot=labels, fmt='', cmap='BuPu')\n",
    "\n",
    "    ax.set_title('Matriz de Confusión de {}\\n'.format(title));\n",
    "\n",
    "    ax.xaxis.set_ticklabels(['No Detections','Detections'])\n",
    "    ax.yaxis.set_ticklabels(['No Detections','Detections'])\n",
    "    ax.set_xlabel('Valores Predichos');\n",
    "    ax.set_ylabel('Valores Correctos ');\n",
    "    \n",
    "    plt.show()"
   ]
  },
  {
   "cell_type": "code",
   "execution_count": 181,
   "metadata": {
    "execution": {
     "iopub.execute_input": "2022-04-23T03:23:54.528255Z",
     "iopub.status.busy": "2022-04-23T03:23:54.527945Z",
     "iopub.status.idle": "2022-04-23T03:23:54.531895Z",
     "shell.execute_reply": "2022-04-23T03:23:54.531221Z",
     "shell.execute_reply.started": "2022-04-23T03:23:54.528216Z"
    }
   },
   "outputs": [],
   "source": [
    "test_ratio = 0.3"
   ]
  },
  {
   "cell_type": "code",
   "execution_count": 182,
   "metadata": {
    "execution": {
     "iopub.execute_input": "2022-04-23T03:24:56.316493Z",
     "iopub.status.busy": "2022-04-23T03:24:56.315720Z",
     "iopub.status.idle": "2022-04-23T03:24:57.706680Z",
     "shell.execute_reply": "2022-04-23T03:24:57.705850Z",
     "shell.execute_reply.started": "2022-04-23T03:24:56.316446Z"
    }
   },
   "outputs": [],
   "source": [
    "## X_train, X_test, y_train, y_test = train_test_split(X_sample, y_sample, test_size = test_ratio)\n",
    "X_train, X_test, y_train, y_test = train_test_split(X_scaled, y_sample, test_size = test_ratio)"
   ]
  },
  {
   "cell_type": "code",
   "execution_count": 184,
   "metadata": {
    "execution": {
     "iopub.execute_input": "2022-04-23T03:25:08.117907Z",
     "iopub.status.busy": "2022-04-23T03:25:08.117169Z",
     "iopub.status.idle": "2022-04-23T03:25:10.819813Z",
     "shell.execute_reply": "2022-04-23T03:25:10.819066Z",
     "shell.execute_reply.started": "2022-04-23T03:25:08.117858Z"
    }
   },
   "outputs": [],
   "source": [
    "dtrain = xgb.DMatrix(X_train, label=y_train, enable_categorical=True)\n",
    "dtest = xgb.DMatrix(X_test, label=y_test, enable_categorical=True)"
   ]
  },
  {
   "cell_type": "code",
   "execution_count": 185,
   "metadata": {
    "execution": {
     "iopub.execute_input": "2022-04-23T03:25:48.918476Z",
     "iopub.status.busy": "2022-04-23T03:25:48.918138Z",
     "iopub.status.idle": "2022-04-23T03:25:48.924355Z",
     "shell.execute_reply": "2022-04-23T03:25:48.923447Z",
     "shell.execute_reply.started": "2022-04-23T03:25:48.918441Z"
    }
   },
   "outputs": [],
   "source": [
    "params = {\n",
    "    # Parameters that we are going to tune.\n",
    "    'max_depth':6,\n",
    "    'min_child_weight': 1,\n",
    "    'eta':.3,\n",
    "    'subsample': 1,\n",
    "    'colsample_bytree': 1,\n",
    "    # Other parameters\n",
    "    'objective':'binary:logistic',\n",
    "    'eval_metric':'auc'\n",
    "}\n",
    "\n",
    "num_boost_round = 999"
   ]
  },
  {
   "cell_type": "code",
   "execution_count": 186,
   "metadata": {
    "execution": {
     "iopub.execute_input": "2022-04-22T21:36:07.522096Z",
     "iopub.status.busy": "2022-04-22T21:36:07.521770Z",
     "iopub.status.idle": "2022-04-22T21:36:07.538105Z",
     "shell.execute_reply": "2022-04-22T21:36:07.537262Z",
     "shell.execute_reply.started": "2022-04-22T21:36:07.522052Z"
    }
   },
   "outputs": [],
   "source": [
    "gridsearch_params = [\n",
    "    (max_depth, min_child_weight)\n",
    "    for max_depth in range(9,12)\n",
    "    for min_child_weight in range(5,8)\n",
    "]"
   ]
  },
  {
   "cell_type": "code",
   "execution_count": null,
   "metadata": {
    "execution": {
     "iopub.execute_input": "2022-04-22T21:52:57.996344Z",
     "iopub.status.busy": "2022-04-22T21:52:57.994126Z",
     "iopub.status.idle": "2022-04-23T01:16:52.361940Z",
     "shell.execute_reply": "2022-04-23T01:16:52.359330Z",
     "shell.execute_reply.started": "2022-04-22T21:52:57.996276Z"
    }
   },
   "outputs": [],
   "source": [
    "max_auc = float(0)\n",
    "best_params = None\n",
    "\n",
    "for max_depth, min_child_weight in gridsearch_params:\n",
    "    print(\"CV with max_depth={}, min_child_weight={}\".format(max_depth, min_child_weight))\n",
    "    \n",
    "    params['max_depth'] = max_depth\n",
    "    params['min_child_weight'] = min_child_weight\n",
    "    \n",
    "    cv_results = xgb.cv(\n",
    "        params,\n",
    "        dtrain,\n",
    "        num_boost_round=num_boost_round,\n",
    "        seed=42,\n",
    "        nfold=5,\n",
    "        metrics={'auc'},\n",
    "        early_stopping_rounds=10\n",
    "    )\n",
    "    \n",
    "    mean_auc = cv_results['test-auc-mean'].max()\n",
    "    boost_rounds = cv_results['test-auc-mean'].argmax()\n",
    "    \n",
    "    print(\"\\tAUC {} for {} rounds\".format(mean_auc, boost_rounds))\n",
    "    \n",
    "    if mean_auc > max_auc:\n",
    "        max_auc = mean_auc\n",
    "        best_params = (max_depth,min_child_weight)\n",
    "    \n",
    "print(\"Best params: {}, {}, AUC: {}\".format(best_params[0], best_params[1], max_auc))"
   ]
  },
  {
   "cell_type": "code",
   "execution_count": null,
   "metadata": {
    "execution": {
     "iopub.execute_input": "2022-04-23T02:14:09.150337Z",
     "iopub.status.busy": "2022-04-23T02:14:09.150035Z",
     "iopub.status.idle": "2022-04-23T02:14:09.154431Z",
     "shell.execute_reply": "2022-04-23T02:14:09.153710Z",
     "shell.execute_reply.started": "2022-04-23T02:14:09.150308Z"
    }
   },
   "outputs": [],
   "source": [
    "params['max_depth'] = best_params[0]\n",
    "params['min_child_weight'] = best_params[1]"
   ]
  },
  {
   "cell_type": "code",
   "execution_count": 189,
   "metadata": {
    "execution": {
     "iopub.execute_input": "2022-04-23T03:18:47.551227Z",
     "iopub.status.busy": "2022-04-23T03:18:47.550382Z",
     "iopub.status.idle": "2022-04-23T03:18:47.557920Z",
     "shell.execute_reply": "2022-04-23T03:18:47.557284Z",
     "shell.execute_reply.started": "2022-04-23T03:18:47.551157Z"
    }
   },
   "outputs": [
    {
     "data": {
      "text/plain": [
       "{'max_depth': 9,\n",
       " 'min_child_weight': 5,\n",
       " 'eta': 0.3,\n",
       " 'subsample': 1,\n",
       " 'colsample_bytree': 1,\n",
       " 'objective': 'binary:logistic',\n",
       " 'eval_metric': 'auc'}"
      ]
     },
     "execution_count": 189,
     "metadata": {},
     "output_type": "execute_result"
    }
   ],
   "source": [
    "params"
   ]
  },
  {
   "cell_type": "code",
   "execution_count": 190,
   "metadata": {
    "execution": {
     "iopub.execute_input": "2022-04-23T03:25:57.426885Z",
     "iopub.status.busy": "2022-04-23T03:25:57.426581Z",
     "iopub.status.idle": "2022-04-23T03:32:19.006297Z",
     "shell.execute_reply": "2022-04-23T03:32:19.005296Z",
     "shell.execute_reply.started": "2022-04-23T03:25:57.426849Z"
    }
   },
   "outputs": [
    {
     "name": "stdout",
     "output_type": "stream",
     "text": [
      "[0]\tTest-auc:0.64316\n",
      "[1]\tTest-auc:0.64923\n",
      "[2]\tTest-auc:0.65222\n",
      "[3]\tTest-auc:0.65435\n",
      "[4]\tTest-auc:0.65620\n",
      "[5]\tTest-auc:0.65757\n",
      "[6]\tTest-auc:0.65904\n",
      "[7]\tTest-auc:0.66041\n",
      "[8]\tTest-auc:0.66268\n",
      "[9]\tTest-auc:0.66395\n",
      "[10]\tTest-auc:0.66512\n",
      "[11]\tTest-auc:0.66612\n",
      "[12]\tTest-auc:0.66679\n",
      "[13]\tTest-auc:0.66711\n",
      "[14]\tTest-auc:0.66803\n",
      "[15]\tTest-auc:0.66835\n",
      "[16]\tTest-auc:0.66917\n",
      "[17]\tTest-auc:0.66949\n",
      "[18]\tTest-auc:0.67018\n",
      "[19]\tTest-auc:0.67050\n",
      "[20]\tTest-auc:0.67092\n",
      "[21]\tTest-auc:0.67122\n",
      "[22]\tTest-auc:0.67144\n",
      "[23]\tTest-auc:0.67153\n",
      "[24]\tTest-auc:0.67217\n",
      "[25]\tTest-auc:0.67252\n",
      "[26]\tTest-auc:0.67270\n",
      "[27]\tTest-auc:0.67295\n",
      "[28]\tTest-auc:0.67314\n",
      "[29]\tTest-auc:0.67338\n",
      "[30]\tTest-auc:0.67347\n",
      "[31]\tTest-auc:0.67362\n",
      "[32]\tTest-auc:0.67388\n",
      "[33]\tTest-auc:0.67401\n",
      "[34]\tTest-auc:0.67410\n",
      "[35]\tTest-auc:0.67409\n",
      "[36]\tTest-auc:0.67412\n",
      "[37]\tTest-auc:0.67437\n",
      "[38]\tTest-auc:0.67438\n",
      "[39]\tTest-auc:0.67450\n",
      "[40]\tTest-auc:0.67462\n",
      "[41]\tTest-auc:0.67484\n",
      "[42]\tTest-auc:0.67478\n",
      "[43]\tTest-auc:0.67483\n",
      "[44]\tTest-auc:0.67478\n",
      "[45]\tTest-auc:0.67482\n",
      "[46]\tTest-auc:0.67486\n",
      "[47]\tTest-auc:0.67499\n",
      "[48]\tTest-auc:0.67497\n",
      "[49]\tTest-auc:0.67497\n",
      "[50]\tTest-auc:0.67505\n",
      "[51]\tTest-auc:0.67509\n",
      "[52]\tTest-auc:0.67506\n",
      "[53]\tTest-auc:0.67508\n",
      "[54]\tTest-auc:0.67518\n",
      "[55]\tTest-auc:0.67528\n",
      "[56]\tTest-auc:0.67536\n",
      "[57]\tTest-auc:0.67535\n",
      "[58]\tTest-auc:0.67541\n",
      "[59]\tTest-auc:0.67543\n",
      "[60]\tTest-auc:0.67542\n",
      "[61]\tTest-auc:0.67541\n",
      "[62]\tTest-auc:0.67542\n",
      "[63]\tTest-auc:0.67551\n",
      "[64]\tTest-auc:0.67557\n",
      "[65]\tTest-auc:0.67573\n",
      "[66]\tTest-auc:0.67582\n",
      "[67]\tTest-auc:0.67579\n",
      "[68]\tTest-auc:0.67580\n",
      "[69]\tTest-auc:0.67578\n",
      "[70]\tTest-auc:0.67579\n",
      "[71]\tTest-auc:0.67580\n",
      "[72]\tTest-auc:0.67576\n",
      "[73]\tTest-auc:0.67579\n",
      "[74]\tTest-auc:0.67575\n",
      "[75]\tTest-auc:0.67581\n",
      "[76]\tTest-auc:0.67584\n",
      "[77]\tTest-auc:0.67586\n",
      "[78]\tTest-auc:0.67586\n",
      "[79]\tTest-auc:0.67594\n",
      "[80]\tTest-auc:0.67593\n",
      "[81]\tTest-auc:0.67594\n",
      "[82]\tTest-auc:0.67591\n",
      "[83]\tTest-auc:0.67591\n",
      "[84]\tTest-auc:0.67590\n",
      "[85]\tTest-auc:0.67593\n",
      "[86]\tTest-auc:0.67593\n",
      "[87]\tTest-auc:0.67590\n",
      "[88]\tTest-auc:0.67590\n",
      "[89]\tTest-auc:0.67591\n"
     ]
    }
   ],
   "source": [
    "xgb_model = xgb.train(\n",
    "    params,\n",
    "    dtrain,\n",
    "    num_boost_round=num_boost_round,\n",
    "    evals=[(dtest, \"Test\")],\n",
    "    early_stopping_rounds=10\n",
    ")"
   ]
  },
  {
   "cell_type": "code",
   "execution_count": 191,
   "metadata": {
    "execution": {
     "iopub.execute_input": "2022-04-23T03:32:31.530745Z",
     "iopub.status.busy": "2022-04-23T03:32:31.530069Z",
     "iopub.status.idle": "2022-04-23T03:32:34.083790Z",
     "shell.execute_reply": "2022-04-23T03:32:34.082837Z",
     "shell.execute_reply.started": "2022-04-23T03:32:31.530698Z"
    }
   },
   "outputs": [],
   "source": [
    "xgb_preds = xgb_model.predict(dtest)\n",
    "\n",
    "binary_preds = [0 if x < 0.5 else 1 for x in xgb_preds]"
   ]
  },
  {
   "cell_type": "code",
   "execution_count": 192,
   "metadata": {
    "execution": {
     "iopub.execute_input": "2022-04-23T03:32:37.094106Z",
     "iopub.status.busy": "2022-04-23T03:32:37.093271Z",
     "iopub.status.idle": "2022-04-23T03:32:37.477635Z",
     "shell.execute_reply": "2022-04-23T03:32:37.476693Z",
     "shell.execute_reply.started": "2022-04-23T03:32:37.094047Z"
    }
   },
   "outputs": [],
   "source": [
    "xgb_cm = confusion_matrix(y_test, binary_preds)"
   ]
  },
  {
   "cell_type": "code",
   "execution_count": 193,
   "metadata": {
    "execution": {
     "iopub.execute_input": "2022-04-23T03:32:37.626162Z",
     "iopub.status.busy": "2022-04-23T03:32:37.625851Z",
     "iopub.status.idle": "2022-04-23T03:32:37.861794Z",
     "shell.execute_reply": "2022-04-23T03:32:37.860882Z",
     "shell.execute_reply.started": "2022-04-23T03:32:37.626126Z"
    }
   },
   "outputs": [
    {
     "data": {
      "image/png": "[encoded data removed]",
      "text/plain": [
       "<Figure size 432x288 with 2 Axes>"
      ]
     },
     "metadata": {
      "needs_background": "light"
     },
     "output_type": "display_data"
    }
   ],
   "source": [
    "plot_confusion_matrix(xgb_cm, \"XG Boost\")"
   ]
  },
  {
   "cell_type": "code",
   "execution_count": 194,
   "metadata": {
    "execution": {
     "iopub.execute_input": "2022-04-23T03:32:42.595413Z",
     "iopub.status.busy": "2022-04-23T03:32:42.595089Z",
     "iopub.status.idle": "2022-04-23T03:32:44.149231Z",
     "shell.execute_reply": "2022-04-23T03:32:44.148239Z",
     "shell.execute_reply.started": "2022-04-23T03:32:42.595376Z"
    }
   },
   "outputs": [
    {
     "name": "stdout",
     "output_type": "stream",
     "text": [
      "              precision    recall  f1-score   support\n",
      "\n",
      "           0       0.64      0.59      0.61    289561\n",
      "           1       0.62      0.67      0.64    290607\n",
      "\n",
      "    accuracy                           0.63    580168\n",
      "   macro avg       0.63      0.63      0.63    580168\n",
      "weighted avg       0.63      0.63      0.63    580168\n",
      "\n"
     ]
    }
   ],
   "source": [
    "print(classification_report(y_test, binary_preds))"
   ]
  },
  {
   "cell_type": "code",
   "execution_count": null,
   "metadata": {
    "execution": {
     "iopub.execute_input": "2022-04-23T03:32:49.795288Z",
     "iopub.status.busy": "2022-04-23T03:32:49.794922Z",
     "iopub.status.idle": "2022-04-23T03:32:54.658701Z",
     "shell.execute_reply": "2022-04-23T03:32:54.657740Z",
     "shell.execute_reply.started": "2022-04-23T03:32:49.795250Z"
    }
   },
   "outputs": [],
   "source": [
    "plot_roc_curve(xgb_model,dtest,y_test,is_xgb=True)"
   ]
  },
  {
   "cell_type": "markdown",
   "metadata": {},
   "source": [
    "RANDOM FOREST"
   ]
  },
  {
   "cell_type": "code",
   "execution_count": 196,
   "metadata": {},
   "outputs": [],
   "source": [
    "#Cleaning Columns for model\n",
    "xt_clean = X_train.drop(columns=['AVProductStatesIdentifier', 'AVProductsInstalled', 'CityIdentifier','GeoNameIdentifier', 'LocaleEnglishNameIdentifier', 'Census_OSUILocaleIdentifier','Census_OSWUAutoUpdateOptionsName','Census_GenuineStateName','Census_ActivationChannel','Census_FirmwareManufacturerIdentifier','Census_FirmwareVersionIdentifier','Census_IsSecureBootEnabled','Census_IsTouchEnabled','Census_IsTouchEnabled','Wdft_RegionIdentifier','OsPlatformSubRelease','SkuEdition','Census_MDC2FormFactor','Census_PrimaryDiskTypeName','Census_ChassisTypeName','Census_PowerPlatformRoleName','Census_OSVersion','Census_OSBranch','Census_OSEdition','Census_OSSkuName','Census_OSInstallTypeName','Processor'], axis=1)\n",
    "yt_clean = y_train.drop(columns=['AVProductStatesIdentifier', 'AVProductsInstalled', 'CityIdentifier','GeoNameIdentifier', 'LocaleEnglishNameIdentifier', 'Census_OSUILocaleIdentifier','Census_OSWUAutoUpdateOptionsName','Census_GenuineStateName','Census_ActivationChannel','Census_FirmwareManufacturerIdentifier','Census_FirmwareVersionIdentifier','Census_IsSecureBootEnabled','Census_IsTouchEnabled','Census_IsTouchEnabled','Wdft_RegionIdentifier','OsPlatformSubRelease','SkuEdition','Census_MDC2FormFactor','Census_PrimaryDiskTypeName','Census_ChassisTypeName','Census_PowerPlatformRoleName','Census_OSVersion','Census_OSBranch','Census_OSEdition','Census_OSSkuName','Census_OSInstallTypeName','Processor'], axis=1)\n",
    "\n",
    "xtest_clean = X_test.drop(columns=['AVProductStatesIdentifier', 'AVProductsInstalled', 'CityIdentifier','GeoNameIdentifier', 'LocaleEnglishNameIdentifier', 'Census_OSUILocaleIdentifier','Census_OSWUAutoUpdateOptionsName','Census_GenuineStateName','Census_ActivationChannel','Census_FirmwareManufacturerIdentifier','Census_FirmwareVersionIdentifier','Census_IsSecureBootEnabled','Census_IsTouchEnabled','Census_IsTouchEnabled','Wdft_RegionIdentifier','OsPlatformSubRelease','SkuEdition','Census_MDC2FormFactor','Census_PrimaryDiskTypeName','Census_ChassisTypeName','Census_PowerPlatformRoleName','Census_OSVersion','Census_OSBranch','Census_OSEdition','Census_OSSkuName','Census_OSInstallTypeName','Processor'], axis=1)\n",
    "ytest_clean = y_test.drop(columns=['AVProductStatesIdentifier', 'AVProductsInstalled', 'CityIdentifier','GeoNameIdentifier', 'LocaleEnglishNameIdentifier', 'Census_OSUILocaleIdentifier','Census_OSWUAutoUpdateOptionsName','Census_GenuineStateName','Census_ActivationChannel','Census_FirmwareManufacturerIdentifier','Census_FirmwareVersionIdentifier','Census_IsSecureBootEnabled','Census_IsTouchEnabled','Census_IsTouchEnabled','Wdft_RegionIdentifier','OsPlatformSubRelease','SkuEdition','Census_MDC2FormFactor','Census_PrimaryDiskTypeName','Census_ChassisTypeName','Census_PowerPlatformRoleName','Census_OSVersion','Census_OSBranch','Census_OSEdition','Census_OSSkuName','Census_OSInstallTypeName','Processor'], axis=1)\n"
   ]
  },
  {
   "cell_type": "code",
   "execution_count": 197,
   "metadata": {},
   "outputs": [
    {
     "data": {
      "text/plain": [
       "RandomForestClassifier(max_depth=2, random_state=0)"
      ]
     },
     "execution_count": 197,
     "metadata": {},
     "output_type": "execute_result"
    }
   ],
   "source": [
    "model2 = RandomForestClassifier(max_depth=2,random_state=0)\n",
    "model2.fit(xt_clean, yt_clean)"
   ]
  },
  {
   "cell_type": "code",
   "execution_count": 198,
   "metadata": {},
   "outputs": [
    {
     "name": "stdout",
     "output_type": "stream",
     "text": [
      "              precision    recall  f1-score   support\n",
      "\n",
      "           0       0.57      0.33      0.42    289561\n",
      "           1       0.53      0.75      0.62    290607\n",
      "\n",
      "    accuracy                           0.54    580168\n",
      "   macro avg       0.55      0.54      0.52    580168\n",
      "weighted avg       0.55      0.54      0.52    580168\n",
      "\n",
      "\n",
      "Accuracy Score: 0.5428961955847272\n"
     ]
    }
   ],
   "source": [
    "y_pred = model2.predict(xtest_clean)\n",
    "ran_forest = confusion_matrix(ytest_clean, y_pred)\n",
    "print(classification_report(ytest_clean, y_pred))\n",
    "\n",
    "print('\\nAccuracy Score:', accuracy_score(ytest_clean,y_pred))"
   ]
  },
  {
   "cell_type": "code",
   "execution_count": 199,
   "metadata": {},
   "outputs": [
    {
     "data": {
      "image/png": "[encoded data removed]",
      "text/plain": [
       "<Figure size 432x288 with 2 Axes>"
      ]
     },
     "metadata": {
      "needs_background": "light"
     },
     "output_type": "display_data"
    }
   ],
   "source": [
    "plot_confusion_matrix(ran_forest, \"Random Forest\")"
   ]
  },
  {
   "cell_type": "code",
   "execution_count": 219,
   "metadata": {},
   "outputs": [
    {
     "data": {
      "image/png": "[encoded data removed]",
      "text/plain": [
       "<Figure size 432x288 with 1 Axes>"
      ]
     },
     "metadata": {
      "needs_background": "light"
     },
     "output_type": "display_data"
    }
   ],
   "source": [
    "plot_roc_curve(model2, xtest_clean, ytest_clean, False)"
   ]
  },
  {
   "cell_type": "markdown",
   "metadata": {},
   "source": [
    "END"
   ]
  }
 ],
 "metadata": {
  "kernelspec": {
   "display_name": "Python 3",
   "language": "python",
   "name": "python3"
  },
  "language_info": {
   "codemirror_mode": {
    "name": "ipython",
    "version": 3
   },
   "file_extension": ".py",
   "mimetype": "text/x-python",
   "name": "python",
   "nbconvert_exporter": "python",
   "pygments_lexer": "ipython3",
   "version": "3.8.2"
  }
 },
 "nbformat": 4,
 "nbformat_minor": 4
}
